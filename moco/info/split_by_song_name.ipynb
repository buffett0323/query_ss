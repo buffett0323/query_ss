{
 "cells": [
  {
   "cell_type": "code",
   "execution_count": 14,
   "metadata": {},
   "outputs": [
    {
     "name": "stderr",
     "output_type": "stream",
     "text": [
      "100%|██████████| 73298/73298 [00:00<00:00, 630742.72it/s]"
     ]
    },
    {
     "name": "stdout",
     "output_type": "stream",
     "text": [
      "32475\n"
     ]
    },
    {
     "name": "stderr",
     "output_type": "stream",
     "text": [
      "\n"
     ]
    }
   ],
   "source": [
    "# For Amp_08\n",
    "import json\n",
    "import random\n",
    "from tqdm import tqdm\n",
    "\n",
    "\n",
    "with open('seg_counter_amp_08.json', 'r') as f:\n",
    "    data = json.load(f)\n",
    "\n",
    "new_dict = {}\n",
    "for key, value in tqdm(data.items()):\n",
    "    song_name = key.split('_')[0]\n",
    "    if song_name not in new_dict:\n",
    "        new_dict[song_name] = []\n",
    "    new_dict[song_name].append(key)\n",
    "\n",
    "print(len(new_dict.keys()))"
   ]
  },
  {
   "cell_type": "code",
   "execution_count": 15,
   "metadata": {},
   "outputs": [
    {
     "name": "stdout",
     "output_type": "stream",
     "text": [
      "Number of songs in train: 29227\n",
      "Number of songs in test: 3248\n",
      "Number of segments in train: 66006\n",
      "Number of segments in test: 7292\n"
     ]
    }
   ],
   "source": [
    "# Get list of all song names\n",
    "song_names = list(new_dict.keys())\n",
    "\n",
    "# Randomly shuffle the song names\n",
    "random.shuffle(song_names)\n",
    "\n",
    "# Calculate split indices\n",
    "n_songs = len(song_names)\n",
    "n_train = int(0.9 * n_songs)\n",
    "\n",
    "# Split into train and test sets\n",
    "train_songs = song_names[:n_train]\n",
    "test_songs = song_names[n_train:]\n",
    "\n",
    "# Get all segment IDs for train and test\n",
    "train_segments = {}\n",
    "test_segments = {}\n",
    "\n",
    "for song in train_songs:\n",
    "    song_segments = new_dict[song]\n",
    "    for ss in song_segments:\n",
    "        train_segments[ss] = data[ss]\n",
    "    \n",
    "for song in test_songs:\n",
    "    song_segments = new_dict[song]\n",
    "    for ss in song_segments:\n",
    "        test_segments[ss] = data[ss]\n",
    "\n",
    "print(f\"Number of songs in train: {len(train_songs)}\")\n",
    "print(f\"Number of songs in test: {len(test_songs)}\")\n",
    "print(f\"Number of segments in train: {len(train_segments)}\")\n",
    "print(f\"Number of segments in test: {len(test_segments)}\")\n",
    "\n",
    "# Shuffle the segments before saving\n",
    "train_items = list(train_segments.items())\n",
    "test_items = list(test_segments.items())\n",
    "\n",
    "random.shuffle(train_items)\n",
    "random.shuffle(test_items)\n",
    "\n",
    "train_segments = dict(train_items)\n",
    "test_segments = dict(test_items)\n",
    "\n",
    "\n",
    "# Save the splits\n",
    "with open('train_segments_amp_08.json', 'w') as f:\n",
    "    json.dump(train_segments, f, indent=4)\n",
    "    \n",
    "with open('test_segments_amp_08.json', 'w') as f:\n",
    "    json.dump(test_segments, f, indent=4)\n"
   ]
  },
  {
   "cell_type": "code",
   "execution_count": 16,
   "metadata": {},
   "outputs": [
    {
     "name": "stderr",
     "output_type": "stream",
     "text": [
      "100%|██████████| 151482/151482 [00:00<00:00, 763580.46it/s]"
     ]
    },
    {
     "name": "stdout",
     "output_type": "stream",
     "text": [
      "54251\n"
     ]
    },
    {
     "name": "stderr",
     "output_type": "stream",
     "text": [
      "\n"
     ]
    }
   ],
   "source": [
    "# For Amp_05\n",
    "with open('seg_counter_amp_05.json', 'r') as f:\n",
    "    data = json.load(f)\n",
    "\n",
    "new_dict = {}\n",
    "for key, value in tqdm(data.items()):\n",
    "    song_name = key.split('_')[0]\n",
    "    if song_name not in new_dict:\n",
    "        new_dict[song_name] = []\n",
    "    new_dict[song_name].append(key)\n",
    "\n",
    "print(len(new_dict.keys()))"
   ]
  },
  {
   "cell_type": "code",
   "execution_count": 17,
   "metadata": {},
   "outputs": [
    {
     "name": "stdout",
     "output_type": "stream",
     "text": [
      "Number of songs in train: 48825\n",
      "Number of songs in test: 5426\n",
      "Number of segments in train: 136177\n",
      "Number of segments in test: 15305\n"
     ]
    }
   ],
   "source": [
    "# Get list of all song names\n",
    "song_names = list(new_dict.keys())\n",
    "\n",
    "# Randomly shuffle the song names\n",
    "random.shuffle(song_names)\n",
    "\n",
    "# Calculate split indices\n",
    "n_songs = len(song_names)\n",
    "n_train = int(0.9 * n_songs)\n",
    "\n",
    "# Split into train and test sets\n",
    "train_songs = song_names[:n_train]\n",
    "test_songs = song_names[n_train:]\n",
    "\n",
    "# Get all segment IDs for train and test\n",
    "train_segments = {}\n",
    "test_segments = {}\n",
    "\n",
    "for song in train_songs:\n",
    "    song_segments = new_dict[song]\n",
    "    for ss in song_segments:\n",
    "        train_segments[ss] = data[ss]\n",
    "    \n",
    "for song in test_songs:\n",
    "    song_segments = new_dict[song]\n",
    "    for ss in song_segments:\n",
    "        test_segments[ss] = data[ss]\n",
    "\n",
    "print(f\"Number of songs in train: {len(train_songs)}\")\n",
    "print(f\"Number of songs in test: {len(test_songs)}\")\n",
    "print(f\"Number of segments in train: {len(train_segments)}\")\n",
    "print(f\"Number of segments in test: {len(test_segments)}\")\n",
    "\n",
    "# Shuffle the segments before saving\n",
    "train_items = list(train_segments.items())\n",
    "test_items = list(test_segments.items())\n",
    "\n",
    "random.shuffle(train_items)\n",
    "random.shuffle(test_items)\n",
    "\n",
    "train_segments = dict(train_items)\n",
    "test_segments = dict(test_items)\n",
    "\n",
    "\n",
    "# Save the splits\n",
    "with open('train_segments_amp_05.json', 'w') as f:\n",
    "    json.dump(train_segments, f, indent=4)\n",
    "    \n",
    "with open('test_segments_amp_05.json', 'w') as f:\n",
    "    json.dump(test_segments, f, indent=4)\n"
   ]
  }
 ],
 "metadata": {
  "kernelspec": {
   "display_name": "py310",
   "language": "python",
   "name": "python3"
  },
  "language_info": {
   "codemirror_mode": {
    "name": "ipython",
    "version": 3
   },
   "file_extension": ".py",
   "mimetype": "text/x-python",
   "name": "python",
   "nbconvert_exporter": "python",
   "pygments_lexer": "ipython3",
   "version": "3.10.14"
  }
 },
 "nbformat": 4,
 "nbformat_minor": 2
}
